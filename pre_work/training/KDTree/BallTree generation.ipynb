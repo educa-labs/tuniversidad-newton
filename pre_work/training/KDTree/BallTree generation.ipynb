{
 "cells": [
  {
   "cell_type": "code",
   "execution_count": 27,
   "metadata": {
    "collapsed": true
   },
   "outputs": [],
   "source": [
    "import numpy as np\n",
    "import pandas as pd\n",
    "import os\n",
    "from sklearn.neighbors import BallTree,DistanceMetric,KDTree\n",
    "from sklearn.preprocessing import StandardScaler\n",
    "from sklearn.externals import joblib\n",
    "from sklearn.metrics.pairwise import cosine_similarity"
   ]
  },
  {
   "cell_type": "code",
   "execution_count": 28,
   "metadata": {
    "collapsed": true
   },
   "outputs": [],
   "source": [
    "carreers = pd.read_csv('../../preprocessed_data/carreers_join.csv',index_col=0)\n",
    "ids = carreers.index.values"
   ]
  },
  {
   "cell_type": "code",
   "execution_count": 26,
   "metadata": {},
   "outputs": [],
   "source": [
    "np.save('../../preprocessed_data/ids',ids)"
   ]
  },
  {
   "cell_type": "code",
   "execution_count": 29,
   "metadata": {
    "collapsed": true
   },
   "outputs": [],
   "source": [
    "names = pd.read_csv('../../preprocessed_data/carreras2.csv')\n",
    "names = names.apply(lambda x: \"{}/{}\".format(x['Nombre'],x['Universidad']),axis=1)"
   ]
  },
  {
   "cell_type": "markdown",
   "metadata": {},
   "source": [
    "### Preprocessing\n",
    "Se preprocesan lso datos numéricos para que tengan media 0 y varianza 1"
   ]
  },
  {
   "cell_type": "code",
   "execution_count": 30,
   "metadata": {},
   "outputs": [],
   "source": [
    "scaler = StandardScaler()\n",
    "columns_to_scale = ['Arancel','Empleabilidad','Ingreso','Corte 2017','Latitud','Longitud','Cant. Semestres']# + [str(x) for x in range(300)]\n",
    "carreers[columns_to_scale] = scaler.fit_transform(carreers[columns_to_scale])\n",
    "carreers = carreers.reset_index().values\n",
    "df = pd.DataFrame(carreers)\n"
   ]
  },
  {
   "cell_type": "code",
   "execution_count": 24,
   "metadata": {},
   "outputs": [
    {
     "data": {
      "text/plain": [
       "array([[  1.00000000e+00,   1.00000000e+00,   2.00000000e+00, ...,\n",
       "          3.00000000e+00,   1.21180442e-01,   1.81491229e+00],\n",
       "       [  2.00000000e+00,   1.00000000e+00,   2.00000000e+00, ...,\n",
       "          3.00000000e+00,   1.35118813e-01,   1.69674246e+00],\n",
       "       [  3.00000000e+00,   1.00000000e+00,   2.00000000e+00, ...,\n",
       "          3.00000000e+00,   1.36684704e-01,   1.72661586e+00],\n",
       "       ..., \n",
       "       [  2.62900000e+03,   5.00000000e+01,   2.26000000e+02, ...,\n",
       "          7.00000000e+00,   4.60908093e-15,   0.00000000e+00],\n",
       "       [  2.63000000e+03,   5.00000000e+01,   2.26000000e+02, ...,\n",
       "          9.00000000e+00,   4.60908093e-15,   0.00000000e+00],\n",
       "       [  2.63100000e+03,   5.00000000e+01,   2.26000000e+02, ...,\n",
       "          5.00000000e+00,   4.60908093e-15,   0.00000000e+00]])"
      ]
     },
     "execution_count": 24,
     "metadata": {},
     "output_type": "execute_result"
    }
   ],
   "source": [
    "carreers"
   ]
  },
  {
   "cell_type": "code",
   "execution_count": 23,
   "metadata": {},
   "outputs": [],
   "source": [
    "df.to_csv('../../preprocessed_data/carreers_scaled.csv',index=False, header=df.columns.values)"
   ]
  },
  {
   "cell_type": "code",
   "execution_count": 5,
   "metadata": {},
   "outputs": [
    {
     "data": {
      "text/plain": [
       "['../../serialized/balltree/scaler']"
      ]
     },
     "execution_count": 5,
     "metadata": {},
     "output_type": "execute_result"
    }
   ],
   "source": [
    "joblib.dump(scaler,'../../serialized/balltree/scaler')"
   ]
  },
  {
   "cell_type": "markdown",
   "metadata": {},
   "source": [
    "### Distance Metric\n",
    "Para poder obtener distancias significativas sintácticamente entre las carreras es necesario usar una métrica de distancia apropiada que considere variables continuas y categóricas de manera similar.\n",
    "Para eso se usará dissimilaridad de gower. Basada en lo que sale en https://stats.stackexchange.com/questions/173144/convert-categorical-data-to-numerical-data-to-compute-a-distance-then\n",
    "\n",
    "Para las features de W2V se uso similaridad coseno, calculada mediante el método n_similarity del modelo. Para evitar tener cargado el modelo en memoria se calculo la similaridad pairwise y se serializo en una matriz de (n_carreras,n_carreras)"
   ]
  },
  {
   "cell_type": "code",
   "execution_count": 31,
   "metadata": {
    "collapsed": true
   },
   "outputs": [],
   "source": [
    "def categorical_distance(c_j,c_k):\n",
    "    return int(not c_j==c_k)\n",
    "\n",
    "def continuous_distance(x_j,x_k,r_i):\n",
    "    return np.divide(np.absolute(x_j-x_k),r_i)\n",
    "\n",
    "def gower_distance(X_j,X_k,**kwargs):\n",
    "    distance = 0\n",
    "    for col in categorical:\n",
    "        distance += np.dot(W_i[column_hash[col]],categorical_distance(X_j[column_hash[col]],X_k[column_hash[col]]))\n",
    "    for col in continuous:\n",
    "        distance += np.dot(W_i[column_hash[col]],continuous_distance(X_j[column_hash[col]],X_k[column_hash[col]],R_i[column_hash[col]]))\n",
    "    distance += W_i[11]*(1 - np.absolute(similarity_matrix[int(X_j[column_hash['ID']]),int(X_k[column_hash['ID']])]))\n",
    "    \n",
    "    return distance"
   ]
  },
  {
   "cell_type": "code",
   "execution_count": 32,
   "metadata": {},
   "outputs": [
    {
     "data": {
      "text/plain": [
       "3.2255417201242502"
      ]
     },
     "execution_count": 32,
     "metadata": {},
     "output_type": "execute_result"
    }
   ],
   "source": [
    "column_hash = {\n",
    "    'ID':0,\n",
    "    'ID Universidad':1,\n",
    "    'ID Campus':2,\n",
    "    'Cant. Semestres':3,\n",
    "    'Arancel':4,\n",
    "    'Empleabilidad':5,\n",
    "    'Ingreso':6,\n",
    "    'Corte 2017':7,\n",
    "    'area_id':8,\n",
    "    'Latitud':9,\n",
    "    'Longitud':10\n",
    "}\n",
    "categorical = ['ID Universidad','ID Campus','area_id']\n",
    "continuous = ['Arancel','Empleabilidad','Ingreso','Corte 2017','Latitud','Longitud','Cant. Semestres']\n",
    "W_i = np.array([1 for _ in range(12)],dtype='float32')\n",
    "for col in categorical:\n",
    "    W_i[column_hash[col]] = 0.66\n",
    "for col in continuous:\n",
    "    W_i[column_hash[col]] = 1\n",
    "R_i = np.array([1 for _ in range(12)],dtype='float32')\n",
    "W_i[11] = 4\n",
    "for col in continuous:\n",
    "    R_i[column_hash[col]] = np.max(carreers[column_hash[col]]) - np.min(carreers[column_hash[col]])\n",
    "\n",
    "similarity_matrix = np.load('../../preprocessed_data/similarity_matrix.npy')\n",
    "args = {'categorical':categorical,'continuous':continuous,'column_hash':column_hash, 'W_i':W_i, 'R_i':R_i,'similarity_matrix':similarity_matrix}\n",
    "gower_distance(carreers[10],carreers[5],**args)"
   ]
  },
  {
   "cell_type": "code",
   "execution_count": 33,
   "metadata": {
    "collapsed": true
   },
   "outputs": [],
   "source": [
    "metric = DistanceMetric.get_metric('pyfunc',func=gower_distance,**args)"
   ]
  },
  {
   "cell_type": "code",
   "execution_count": 34,
   "metadata": {
    "collapsed": true
   },
   "outputs": [],
   "source": [
    "tree = BallTree(carreers,metric=metric)"
   ]
  },
  {
   "cell_type": "code",
   "execution_count": 35,
   "metadata": {},
   "outputs": [
    {
     "name": "stdout",
     "output_type": "stream",
     "text": [
      "Teoría de la Música/Universidad de Chile\n",
      "['Teoría de la Música/Universidad de Chile'\n",
      " 'Teoría e Historia del Arte/Universidad de Chile'\n",
      " 'Ingeniería en Sonido/Universidad de Chile'\n",
      " 'Diseño Teatral/Universidad de Chile'\n",
      " 'Música y Composición/Universidad UNIACC']\n"
     ]
    }
   ],
   "source": [
    "id_query = 3\n",
    "q = carreers[id_query]\n",
    "result = tree.query([q],k=5,return_distance=False)\n",
    "print(names[ids[id_query]])\n",
    "for i in result:\n",
    "    print(np.array(names[ids[i]]))\n",
    "    "
   ]
  },
  {
   "cell_type": "code",
   "execution_count": 319,
   "metadata": {},
   "outputs": [
    {
     "data": {
      "text/plain": [
       "['../../serialized/balltree/balltree']"
      ]
     },
     "execution_count": 319,
     "metadata": {},
     "output_type": "execute_result"
    }
   ],
   "source": [
    "joblib.dump(tree,'../../serialized/balltree/balltree')"
   ]
  },
  {
   "cell_type": "code",
   "execution_count": null,
   "metadata": {
    "collapsed": true
   },
   "outputs": [],
   "source": []
  }
 ],
 "metadata": {
  "kernelspec": {
   "display_name": "Python 3",
   "language": "python",
   "name": "python3"
  },
  "language_info": {
   "codemirror_mode": {
    "name": "ipython",
    "version": 3
   },
   "file_extension": ".py",
   "mimetype": "text/x-python",
   "name": "python",
   "nbconvert_exporter": "python",
   "pygments_lexer": "ipython3",
   "version": "3.5.2"
  }
 },
 "nbformat": 4,
 "nbformat_minor": 2
}

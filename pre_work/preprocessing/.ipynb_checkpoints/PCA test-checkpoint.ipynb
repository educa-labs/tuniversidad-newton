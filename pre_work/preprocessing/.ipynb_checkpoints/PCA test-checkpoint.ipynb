{
 "cells": [
  {
   "cell_type": "code",
   "execution_count": 1,
   "metadata": {
    "collapsed": true
   },
   "outputs": [],
   "source": [
    "#resultado tabla de carreras(id,name_descr(300),id_university,arancel,num_semestres,\n",
    "                            #area,horario_bin,empleabilidad,ingreso,corte,coordenadas_campus)\n",
    "#usar gower distance para el arbol.\n",
    "import numpy as np\n",
    "import pandas as pd\n",
    "import os"
   ]
  },
  {
   "cell_type": "code",
   "execution_count": null,
   "metadata": {
    "collapsed": true
   },
   "outputs": [],
   "source": [
    "carreer_vectors = pd.read_csv('../preprocessed_data/vector_carreers.csv')\n"
   ]
  },
  {
   "cell_type": "code",
   "execution_count": null,
   "metadata": {
    "collapsed": true
   },
   "outputs": [],
   "source": [
    "carreers = pd-read_csv('../preprocessed_data/carreras2.csv')\n",
    "universities = pd.read_csv('../data/tuni/universidades.tsv', sep='\\t')\n",
    "campus = pd.read_csv('../data/tuni/campuses.tsv', sep='\\t')"
   ]
  }
 ],
 "metadata": {
  "kernelspec": {
   "display_name": "Python 3",
   "language": "python",
   "name": "python3"
  },
  "language_info": {
   "codemirror_mode": {
    "name": "ipython",
    "version": 3
   },
   "file_extension": ".py",
   "mimetype": "text/x-python",
   "name": "python",
   "nbconvert_exporter": "python",
   "pygments_lexer": "ipython3",
   "version": "3.5.2"
  }
 },
 "nbformat": 4,
 "nbformat_minor": 2
}
